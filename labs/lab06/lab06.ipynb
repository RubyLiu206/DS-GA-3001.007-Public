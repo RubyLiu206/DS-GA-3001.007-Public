{
 "cells": [
  {
   "cell_type": "markdown",
   "metadata": {},
   "source": [
    "# Lab\n",
    "For the following problems, you will use the same dataset that we used in discussion. Your can copy and use any code that we implemented in the discussion section."
   ]
  },
  {
   "cell_type": "markdown",
   "metadata": {},
   "source": [
    "### 1. Exhaustive search\n",
    "In this problem, we will look at how to exhaustively search over all possible subsets of features. You will need these three functions:\n",
    "\n",
    "    model = LinearRegression()  # Create a linear regression model object\n",
    "    model.fit(X,y)              # Fits the model\n",
    "    yhat = model.predict(X)     # Predicts targets given features\n",
    "\n",
    "Given training data `Xtr`, `ytr` and test data `Xts`, `yts`, write a few lines of python code to:\n",
    "- Find the best model using only one feature of the data (i.e. one column of `Xtr` and `Xts`).\n",
    "- Find the best model using only two features of the data (i.e. two columns of `Xtr` and `Xts`).\n",
    "- Suppose we wish to find the best `k` of `p` features via exhaustive searching over all possible subsets of features.  How many times would you need to call the `fit` function? What if `k=10` and `p=1000`?\n"
   ]
  },
  {
   "cell_type": "code",
   "execution_count": null,
   "metadata": {},
   "outputs": [],
   "source": []
  },
  {
   "cell_type": "markdown",
   "metadata": {},
   "source": [
    "### 2. Normalization\n",
    "A data analyst for a real estate firm wants to predict house prices based on two features in each zip code.  The features are shown below:\n",
    "<img src=\"table1.png\">\n",
    "\n",
    "The agent decides to use a linear model,\n",
    "\n",
    "$\\hat{y} = \\beta_0 + \\beta_1 x_1 + \\beta_2 x_2, $\n",
    "\n",
    "- What is the problem in using a LASSO regularizer of the form,\n",
    "$\\phi(\\beta) = \\sum_{j=1}^2 |\\beta_j|$\n",
    "\n",
    "- To uniformly regularize the features, she fits a model on the normalized features,\n",
    "\n",
    "$\\hat{u} = \\alpha_1 z_1 + \\alpha_2 z_2, \\quad z_j = \\frac{x_j - \\bar{x}_j}{s_j}$,\n",
    "\n",
    "$\\quad u = \\frac{\\hat{y}-\\bar{y}}{s_y}$, \n",
    "\n",
    "where $s_j$ and $s_y$ are the standard deviations of the  $x_{j}$ and $y$.\n",
    "She obtains parameters $\\alpha$ = `[0.6,-0.3]`?  What are the parameters $\\beta$ in the original model?"
   ]
  },
  {
   "cell_type": "code",
   "execution_count": null,
   "metadata": {},
   "outputs": [],
   "source": []
  },
  {
   "cell_type": "markdown",
   "metadata": {},
   "source": [
    "### 3. Normalization in python.\n",
    "For this question, you will need the following functions:\n",
    "\n",
    "    model = SomeModel()         # Creates a model\n",
    "    model.fit(Z,u)              # Fits the model, expecting normalized features\n",
    "    yhat = model.predict(Z)     # Predicts targets given features\n",
    "\n",
    "Given training data `Xtr`, `ytr` and test data `Xts`, `yts`, write python code to:\n",
    "\n",
    "- Normalize the training data to remove the mean and standard deviation from both `Xtr` and `ytr` using numpy.\n",
    "- Fit the model on the normalized data.\n",
    "- Predict the values `yhat` on the test data.\n",
    "- Measure the RSS on the test data."
   ]
  },
  {
   "cell_type": "code",
   "execution_count": null,
   "metadata": {},
   "outputs": [],
   "source": []
  }
 ],
 "metadata": {
  "anaconda-cloud": {},
  "kernelspec": {
   "display_name": "Python 3",
   "language": "python",
   "name": "python3"
  },
  "language_info": {
   "codemirror_mode": {
    "name": "ipython",
    "version": 3
   },
   "file_extension": ".py",
   "mimetype": "text/x-python",
   "name": "python",
   "nbconvert_exporter": "python",
   "pygments_lexer": "ipython3",
   "version": "3.7.3"
  }
 },
 "nbformat": 4,
 "nbformat_minor": 1
}
