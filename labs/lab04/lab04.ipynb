{
 "cells": [
  {
   "cell_type": "markdown",
   "metadata": {},
   "source": [
    "## Questions\n",
    "\n",
    "1. Suppose we use another hypothesis space $\\mathcal{H}' \\subset \\mathcal{H}$, how do you expect the approximation error to change?\n",
    "2. Suppose we increase the number of data points $n$ in the sample to calculate $\\ \\hat{f}_\\mathcal{H}$. How do we expect estimation error to change?\n",
    "3. Repeat everything we did for linear hypothesis space for constant, quadratic and cubic hypothesis space for $n=500, 1000$ as well - does your results match with what you expected in 1 and 2?"
   ]
  },
  {
   "cell_type": "markdown",
   "metadata": {},
   "source": [
    "## Answers\n",
    "1.\n",
    "\n",
    "2.\n",
    "\n",
    "3.\n"
   ]
  }
 ],
 "metadata": {
  "kernelspec": {
   "display_name": "Python 3",
   "language": "python",
   "name": "python3"
  },
  "language_info": {
   "codemirror_mode": {
    "name": "ipython",
    "version": 3
   },
   "file_extension": ".py",
   "mimetype": "text/x-python",
   "name": "python",
   "nbconvert_exporter": "python",
   "pygments_lexer": "ipython3",
   "version": "3.7.3"
  }
 },
 "nbformat": 4,
 "nbformat_minor": 2
}
