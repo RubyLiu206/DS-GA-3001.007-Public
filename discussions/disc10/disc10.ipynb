{
 "cells": [
  {
   "cell_type": "code",
   "execution_count": 1,
   "metadata": {},
   "outputs": [],
   "source": [
    "import numpy as np\n",
    "import matplotlib.pyplot as plt"
   ]
  },
  {
   "cell_type": "markdown",
   "metadata": {},
   "source": [
    "## 1.)\n",
    "Consider the data set for four points with features $x_i=(x_{i1},x_{i2})$ and binary class labels $y_i=\\pm 1$."
   ]
  },
  {
   "cell_type": "code",
   "execution_count": 2,
   "metadata": {},
   "outputs": [
    {
     "data": {
      "text/plain": [
       "[-0.25, 2.25, -0.25, 2.25]"
      ]
     },
     "execution_count": 2,
     "metadata": {},
     "output_type": "execute_result"
    },
    {
     "data": {
      "image/png": "[encoded data removed]",
      "text/plain": [
       "<Figure size 720x576 with 1 Axes>"
      ]
     },
     "metadata": {
      "needs_background": "light"
     },
     "output_type": "display_data"
    }
   ],
   "source": [
    "data = np.array([\n",
    "    [0,0,-1],\n",
    "    [1,.3,-1],\n",
    "    [1,.7,1],\n",
    "    [2,1,1]\n",
    "])\n",
    "label_1 = data[:,-1]==1\n",
    "plt.rcParams['figure.figsize'] = (10.0, 8.0)\n",
    "plt.scatter(data[:,0][label_1],data[:,1][label_1], label='1')\n",
    "plt.scatter(data[:,0][~label_1],data[:,1][~label_1], label='-1')\n",
    "plt.legend()\n",
    "plt.grid()\n",
    "plt.axis([-.25,2.25,-.25,2.25],'equal')"
   ]
  },
  {
   "cell_type": "markdown",
   "metadata": {},
   "source": [
    "(a) Find a linear classifier that separates the two classes.\n",
    "Your classifier should be of the form\n",
    "\n",
    "$$\\hat{y} = \\begin{cases}\n",
    "        1 & \\mbox{if } b + w_1 x_1 + w_2 x_2 > 0 \\\\\n",
    "        -1 & \\mbox{if } b + w_1 x_1 + w_2 x_2 < 0\n",
    "    \\end{cases}$$\n",
    "    \n",
    "State the intercept $b$ and weights $w_1$ and $w_2$ for your classifier.\n",
    "Note there is no unique answer as there are multiple linear classifiers\n",
    "that could separate the classes."
   ]
  },
  {
   "cell_type": "code",
   "execution_count": 3,
   "metadata": {},
   "outputs": [
    {
     "data": {
      "text/plain": [
       "[-0.25, 2.25, -0.25, 2.25]"
      ]
     },
     "execution_count": 3,
     "metadata": {},
     "output_type": "execute_result"
    },
    {
     "data": {
      "image/png": "[encoded data removed]",
      "text/plain": [
       "<Figure size 720x576 with 1 Axes>"
      ]
     },
     "metadata": {
      "needs_background": "light"
     },
     "output_type": "display_data"
    }
   ],
   "source": [
    "w1, w2, b = -1, 4, -1\n",
    "decision_func = lambda x: - (w1/w2) * x - b/w2\n",
    "xvals = np.linspace(-5, 5, 5)\n",
    "plt.scatter(data[:,0][label_1],data[:,1][label_1], label='1')\n",
    "plt.scatter(data[:,0][~label_1],data[:,1][~label_1], label='-1')\n",
    "plt.plot(xvals, decision_func(xvals))\n",
    "plt.legend()\n",
    "plt.grid()\n",
    "plt.axis([-.25,2.25,-.25,2.25],'equal')\n"
   ]
  },
  {
   "cell_type": "markdown",
   "metadata": {},
   "source": [
    "(b) Find the maximum $\\gamma$ such that\n",
    "\n",
    "$$y_i(b+w_1x_{i1} + w_{i2}x_{i2}) \\geq \\gamma, \\mbox{ for all } i,$$\n",
    "\n",
    "for the classifier in part (a)?"
   ]
  },
  {
   "cell_type": "code",
   "execution_count": 4,
   "metadata": {},
   "outputs": [
    {
     "name": "stdout",
     "output_type": "stream",
     "text": [
      "unnormalised margins : [1.  0.8 0.8 1. ]\n",
      "maximum unnorm. margin : 0.8\n"
     ]
    }
   ],
   "source": [
    "margins = data[:, 2] * (b + w1 * data[:, 0] + w2* data[:, 1])\n",
    "gamma = margins.min()\n",
    "print(f'unnormalised margins : {margins}')\n",
    "print(f'maximum unnorm. margin : {gamma:.4}')"
   ]
  },
  {
   "cell_type": "markdown",
   "metadata": {},
   "source": [
    "(c) Compute the margin of the classifier\n",
    "\n",
    "$m = \\frac{\\gamma}{||w||}, \\quad ||w||= \\sqrt{ w_1^2 + w_2^2 }$"
   ]
  },
  {
   "cell_type": "code",
   "execution_count": 5,
   "metadata": {},
   "outputs": [
    {
     "name": "stdout",
     "output_type": "stream",
     "text": [
      "0.194\n"
     ]
    }
   ],
   "source": [
    "w_l2_norm = np.sqrt(w1**2+w2**2)\n",
    "m = gamma/w_l2_norm\n",
    "print(f'{m:.4}')"
   ]
  },
  {
   "cell_type": "markdown",
   "metadata": {},
   "source": [
    "(d) Which samples $i$ are on the margin for your classifier?"
   ]
  },
  {
   "cell_type": "markdown",
   "metadata": {},
   "source": []
  },
  {
   "cell_type": "markdown",
   "metadata": {},
   "source": [
    "## 2)\n",
    "Consider the data set with scalar features $x_i$\n",
    "and binary class labels $y_i=\\pm 1$."
   ]
  },
  {
   "cell_type": "code",
   "execution_count": 6,
   "metadata": {},
   "outputs": [],
   "source": [
    "data = np.array([\n",
    "    [0, -1],\n",
    "    [1.3, -1],\n",
    "    [2.1, -1],\n",
    "    [2.8, 1],\n",
    "    [4.2, -1],\n",
    "    [5.7, 1],\n",
    "])"
   ]
  },
  {
   "cell_type": "code",
   "execution_count": 7,
   "metadata": {},
   "outputs": [
    {
     "data": {
      "text/plain": [
       "[-0.1, 6, -1.2, 1.2]"
      ]
     },
     "execution_count": 7,
     "metadata": {},
     "output_type": "execute_result"
    },
    {
     "data": {
      "image/png": "[encoded data removed]",
      "text/plain": [
       "<Figure size 720x576 with 1 Axes>"
      ]
     },
     "metadata": {
      "needs_background": "light"
     },
     "output_type": "display_data"
    }
   ],
   "source": [
    "plt.scatter(data[:, 0], data[:, 1])\n",
    "plt.grid()\n",
    "plt.axis([-.1,6,-1.2,1.2],'equal')"
   ]
  },
  {
   "cell_type": "markdown",
   "metadata": {},
   "source": [
    "Consider a linear classifier for this data of the form,\n",
    "\n",
    "$$\n",
    "    \\hat{y} = \\begin{cases}\n",
    "        1  & z > 0 \\\\\n",
    "        -1 & z < 0,\n",
    "        \\end{cases}\n",
    "    \\quad\n",
    "    z = x-t,\n",
    "$$\n",
    "\n",
    "where $t$ is a threshold.  For each threshold $t$, let $J(t)$\n",
    "denote the sum hinge loss,\n",
    "\n",
    "$$\n",
    "    J(t) = \\sum_i \\epsilon_i, \\quad \\epsilon_i = \\max(0, 1-y_iz_i).\n",
    "$$"
   ]
  },
  {
   "cell_type": "markdown",
   "metadata": {},
   "source": [
    "**Question for Lab**\n",
    "\n",
    "*(a)* Write a short python program to plot $J(t)$ vs. $t$ for\n",
    "100 values of $t$ in the interval $t \\in [0,5]$."
   ]
  },
  {
   "cell_type": "code",
   "execution_count": 8,
   "metadata": {},
   "outputs": [],
   "source": [
    "# TODO:"
   ]
  },
  {
   "cell_type": "markdown",
   "metadata": {},
   "source": [
    "(b) Based on the plot, what is one value of $t$ that minimizes\n",
    "$J(t)$.\n",
    "\n",
    "(c) For the value of $t$ in part (b), find the corresponding\n",
    "slack variables $\\epsilon_i$.\n",
    "\n",
    "(d) Which samples $i$ violate the margin ($\\epsilon_i > 0$)\n",
    "and which samples $i$ are misclassified ($\\epsilon_i > 1$)."
   ]
  },
  {
   "cell_type": "markdown",
   "metadata": {},
   "source": [
    "## 3)\n",
    "Consider an image recognition problem, where an image $\\mathbf{X}$\n",
    "and filter $\\mathbf{W}$ are $4 \\text{x} 4$ matrices:\n",
    "\n",
    "$$\n",
    "    \\mathbf{X} = \\left[\n",
    "        \\begin{array}{cccc}\n",
    "        0 & 0 & 0 & 0 \\\\\n",
    "        0 & 0 & 1 & 0 \\\\\n",
    "        0 & 0 & 1 & 0 \\\\\n",
    "        0 & 0 & 1 & 0\n",
    "        \\end{array} \\right], \\quad\n",
    "    \\mathbf{W} = \\left[\n",
    "        \\begin{array}{cccc}\n",
    "        0 & 0 & 0 & 0 \\\\\n",
    "        0 & 1 & 1 & 0 \\\\\n",
    "        0 & 1 & 1 & 0 \\\\\n",
    "        0 & 0 & 0 & 0\n",
    "        \\end{array} \\right].\n",
    "$$"
   ]
  },
  {
   "cell_type": "code",
   "execution_count": 9,
   "metadata": {},
   "outputs": [],
   "source": [
    "X, W = np.zeros((4,4)), np.zeros((4,4))\n",
    "X[1:, 2] = 1\n",
    "W[1:3, 1:3] = 1"
   ]
  },
  {
   "cell_type": "markdown",
   "metadata": {},
   "source": [
    "*(a)* Recall that in linear classification, the $4 \\text{x} 4$\n",
    "image matrices $\\mathbf{X}$ and $\\mathbf{W}$\n",
    "can be represented as 16-dimensional vectors, $\\mathbf{x} = \\mathrm{vec}(\\mathbf{X})$\n",
    "and $\\mathbf{w} = \\mathrm{vec}(\\mathbf{W})$ by stacking the columns of the matrices\n",
    "vertically. What are $\\mathbf{x}$ and $\\mathbf{w}$ for the matrices above.\n",
    "\n",
    "*(b)* What is the inner product $z = \\mathbf{w}^\\top \\mathbf{x}$.\n",
    "\n",
    "*(c)* What is the inner product $z = \\mathbf{w}^\\top \\mathbf{x}_{\\rm right}$ where\n",
    "$\\mathbf{x}_{\\rm right}$ is\n",
    "the vector corresponding to the matrix $\\mathbf{X}$ right shifted by one pixel\n",
    "with the left column filled with zeros.\n",
    "\n",
    "*(d)* What is the inner product $z = \\mathbf{w}^\\top \\mathbf{x}_{\\rm left}$ where\n",
    "$\\mathbf{x}_{\\rm left}$ is\n",
    "the vector corresponding to the matrix $\\mathbf{X}$ left shifted by one pixel\n",
    "with the right column filled with zeros."
   ]
  },
  {
   "cell_type": "markdown",
   "metadata": {},
   "source": [
    "**Question for Lab**\n",
    "\n",
    "*(e)*  Write the python command that can covert a $4 \\text{x} 4$ image matrix, `Xmat`\n",
    "to the 16-dimensional vector, `x`.  What is the python command\n",
    "to go from `x` to `Xmat`."
   ]
  },
  {
   "cell_type": "markdown",
   "metadata": {},
   "source": [
    "## 4)\n",
    "Consider the data set with scalar features $x_i$\n",
    "and binary class labels $y_i=\\pm 1$."
   ]
  },
  {
   "cell_type": "code",
   "execution_count": 10,
   "metadata": {
    "scrolled": false
   },
   "outputs": [
    {
     "data": {
      "text/plain": [
       "[-0.2, 3.2, -1.2, 1.2]"
      ]
     },
     "execution_count": 10,
     "metadata": {},
     "output_type": "execute_result"
    },
    {
     "data": {
      "image/png": "[encoded data removed]",
      "text/plain": [
       "<Figure size 720x576 with 1 Axes>"
      ]
     },
     "metadata": {
      "needs_background": "light"
     },
     "output_type": "display_data"
    }
   ],
   "source": [
    "x = np.array([0,1,2,3.])\n",
    "y = np.array([1,-1,1,-1])\n",
    "plt.scatter(x, y)\n",
    "plt.grid()\n",
    "plt.axis([-0.2,3.2,-1.2,1.2],'equal')"
   ]
  },
  {
   "cell_type": "markdown",
   "metadata": {},
   "source": [
    "A support vector classifier is of the form\n",
    "\n",
    "$$\n",
    "    \\hat{y} = \\begin{cases}\n",
    "        1  & z > 0 \\\\\n",
    "        -1 & z < 0,\n",
    "        \\end{cases}\n",
    "    \\quad\n",
    "    z = \\sum_i \\alpha_i y_i K(x_i,x),\n",
    "$$\n",
    "\n",
    "where $K(x,x')$ is the radial basis function, $K(x,x') = e^{-\\gamma(x-x')^2}$, and\n",
    "$\\gamma > 0$ and $\\mathbf{\\alpha} = [\\alpha_1,\\ldots,\\alpha_4]$ are parameters of the classifier."
   ]
  },
  {
   "cell_type": "markdown",
   "metadata": {},
   "source": [
    "**Questions for LAB**\n",
    "\n",
    "*(a)* \\item Use python to plot $z$ vs. $x$ and\n",
    "$\\hat{y}$ vs. $x$ when $\\gamma = 3$ and $\\mathbf{\\alpha} = [0,0,1,1]$.\n",
    "\n",
    "*(b)* Repeat (a) with $\\gamma = 0.3$ and $\\mathbf{\\alpha} = [1,1,1,1]$.\n",
    "\n",
    "*(c)* Which classifier makes more errors on the training data."
   ]
  }
 ],
 "metadata": {
  "kernelspec": {
   "display_name": "Python 3",
   "language": "python",
   "name": "python3"
  },
  "language_info": {
   "codemirror_mode": {
    "name": "ipython",
    "version": 3
   },
   "file_extension": ".py",
   "mimetype": "text/x-python",
   "name": "python",
   "nbconvert_exporter": "python",
   "pygments_lexer": "ipython3",
   "version": "3.7.3"
  }
 },
 "nbformat": 4,
 "nbformat_minor": 2
}
